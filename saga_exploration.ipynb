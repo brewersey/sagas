{
 "cells": [
  {
   "cell_type": "code",
   "execution_count": 70,
   "metadata": {
    "collapsed": true
   },
   "outputs": [],
   "source": [
    "import pickle\n",
    "import pandas as pd\n",
    "import nltk\n",
    "from nltk import FreqDist"
   ]
  },
  {
   "cell_type": "code",
   "execution_count": 81,
   "metadata": {},
   "outputs": [],
   "source": [
    "with open('df_skald.pkl', 'rb') as picklefile:\n",
    "    skalds = pickle.load(picklefile)"
   ]
  },
  {
   "cell_type": "code",
   "execution_count": 82,
   "metadata": {},
   "outputs": [],
   "source": [
    "def words(text):\n",
    "    text = text.split()\n",
    "    u_words = set(text)\n",
    "    count = len(u_words)\n",
    "    return count    "
   ]
  },
  {
   "cell_type": "code",
   "execution_count": 83,
   "metadata": {
    "collapsed": true
   },
   "outputs": [],
   "source": [
    "def wordct(text):\n",
    "    count = text.split()\n",
    "    count = len(count)\n",
    "    return count"
   ]
  },
  {
   "cell_type": "code",
   "execution_count": 84,
   "metadata": {
    "collapsed": true
   },
   "outputs": [],
   "source": [
    "def lexden(text):\n",
    "    text = text.split()\n",
    "    count = len(text)\n",
    "    lexden = len(set(text))/count\n",
    "    return lexden"
   ]
  },
  {
   "cell_type": "code",
   "execution_count": 85,
   "metadata": {
    "collapsed": true
   },
   "outputs": [],
   "source": [
    "def wf(text):\n",
    "    text = text.split()\n",
    "    ftxt = FreqDist(text)\n",
    "    return ftxt"
   ]
  },
  {
   "cell_type": "code",
   "execution_count": 86,
   "metadata": {},
   "outputs": [],
   "source": [
    "skalds['Unique Words'] = skalds['Text'].map(lambda x: words(x))\n",
    "#skalds['Frequent Words'] = skalds['Text'].map(lambda x: wf(x))\n",
    "skalds['Word Count'] = skalds['Text'].map(lambda x: wordct(x))\n",
    "skalds['Lexical Den'] = skalds['Text'].map(lambda x: lexden(x))"
   ]
  },
  {
   "cell_type": "code",
   "execution_count": 88,
   "metadata": {},
   "outputs": [
    {
     "data": {
      "text/html": [
       "<div>\n",
       "<table border=\"1\" class=\"dataframe\">\n",
       "  <thead>\n",
       "    <tr style=\"text-align: right;\">\n",
       "      <th></th>\n",
       "      <th>Title</th>\n",
       "      <th>Author</th>\n",
       "      <th>Text</th>\n",
       "      <th>Skald</th>\n",
       "      <th>Unique Words</th>\n",
       "      <th>Word Count</th>\n",
       "      <th>Lexical Den</th>\n",
       "    </tr>\n",
       "  </thead>\n",
       "  <tbody>\n",
       "    <tr>\n",
       "      <th>0</th>\n",
       "      <td>Bárðar saga snæfellsáss</td>\n",
       "      <td>unknown</td>\n",
       "      <td>['Dumbur hefir konungur heitið Hann réð fyrir ...</td>\n",
       "      <td>1</td>\n",
       "      <td>3494</td>\n",
       "      <td>13302</td>\n",
       "      <td>0.262667</td>\n",
       "    </tr>\n",
       "    <tr>\n",
       "      <th>1</th>\n",
       "      <td>Bjarnar saga hítdælakappa</td>\n",
       "      <td>unknown</td>\n",
       "      <td>['Nú skal segja nokkuð af þeim íslensku mönnum...</td>\n",
       "      <td>2</td>\n",
       "      <td>4312</td>\n",
       "      <td>20475</td>\n",
       "      <td>0.210598</td>\n",
       "    </tr>\n",
       "    <tr>\n",
       "      <th>2</th>\n",
       "      <td>Droplaugarsona saga</td>\n",
       "      <td>unknown</td>\n",
       "      <td>['Ketill hét maður er kallaður var þrymur Hann...</td>\n",
       "      <td>0</td>\n",
       "      <td>2420</td>\n",
       "      <td>9601</td>\n",
       "      <td>0.252057</td>\n",
       "    </tr>\n",
       "    <tr>\n",
       "      <th>3</th>\n",
       "      <td>Egil's Saga\\n</td>\n",
       "      <td>unknown</td>\n",
       "      <td>['Úlfur hét maður sonur Bjálfa og Hallberu dót...</td>\n",
       "      <td>0</td>\n",
       "      <td>9540</td>\n",
       "      <td>65204</td>\n",
       "      <td>0.146310</td>\n",
       "    </tr>\n",
       "    <tr>\n",
       "      <th>4</th>\n",
       "      <td>Finnboga saga ramma</td>\n",
       "      <td>unknown</td>\n",
       "      <td>['Ásbjörn hét maður Hann var kallaður dettiás ...</td>\n",
       "      <td>0</td>\n",
       "      <td>4062</td>\n",
       "      <td>23702</td>\n",
       "      <td>0.171378</td>\n",
       "    </tr>\n",
       "  </tbody>\n",
       "</table>\n",
       "</div>"
      ],
      "text/plain": [
       "                       Title   Author  \\\n",
       "0    Bárðar saga snæfellsáss  unknown   \n",
       "1  Bjarnar saga hítdælakappa  unknown   \n",
       "2        Droplaugarsona saga  unknown   \n",
       "3              Egil's Saga\\n  unknown   \n",
       "4        Finnboga saga ramma  unknown   \n",
       "\n",
       "                                                Text  Skald  Unique Words  \\\n",
       "0  ['Dumbur hefir konungur heitið Hann réð fyrir ...      1          3494   \n",
       "1  ['Nú skal segja nokkuð af þeim íslensku mönnum...      2          4312   \n",
       "2  ['Ketill hét maður er kallaður var þrymur Hann...      0          2420   \n",
       "3  ['Úlfur hét maður sonur Bjálfa og Hallberu dót...      0          9540   \n",
       "4  ['Ásbjörn hét maður Hann var kallaður dettiás ...      0          4062   \n",
       "\n",
       "   Word Count  Lexical Den  \n",
       "0       13302     0.262667  \n",
       "1       20475     0.210598  \n",
       "2        9601     0.252057  \n",
       "3       65204     0.146310  \n",
       "4       23702     0.171378  "
      ]
     },
     "execution_count": 88,
     "metadata": {},
     "output_type": "execute_result"
    }
   ],
   "source": [
    "skalds.drop(['Skald2'], axis = 1, inplace = True)\n",
    "skalds.head()"
   ]
  },
  {
   "cell_type": "code",
   "execution_count": 95,
   "metadata": {},
   "outputs": [
    {
     "data": {
      "text/plain": [
       "str"
      ]
     },
     "execution_count": 95,
     "metadata": {},
     "output_type": "execute_result"
    }
   ],
   "source": [
    "type(skalds.loc[0, 'Text'])"
   ]
  },
  {
   "cell_type": "code",
   "execution_count": 23,
   "metadata": {},
   "outputs": [
    {
     "data": {
      "text/plain": [
       "1145569"
      ]
     },
     "execution_count": 23,
     "metadata": {},
     "output_type": "execute_result"
    }
   ],
   "source": [
    "total_words = skalds['Word Count'].sum()\n",
    "total_words"
   ]
  },
  {
   "cell_type": "code",
   "execution_count": 24,
   "metadata": {},
   "outputs": [
    {
     "data": {
      "text/plain": [
       "69658"
      ]
     },
     "execution_count": 24,
     "metadata": {},
     "output_type": "execute_result"
    }
   ],
   "source": [
    "total_unique_words = []\n",
    "count = 0\n",
    "while count < len(skalds['Text']):\n",
    "    text = skalds.loc[count, 'Text']\n",
    "    text = text.split()\n",
    "    total_unique_words = total_unique_words + text\n",
    "    count += 1\n",
    "total_unique_words = set(total_unique_words)\n",
    "len(total_unique_words)"
   ]
  },
  {
   "cell_type": "code",
   "execution_count": 25,
   "metadata": {},
   "outputs": [
    {
     "data": {
      "text/plain": [
       "99812"
      ]
     },
     "execution_count": 25,
     "metadata": {},
     "output_type": "execute_result"
    }
   ],
   "source": [
    "skalds['Word Count'].max()"
   ]
  },
  {
   "cell_type": "code",
   "execution_count": 26,
   "metadata": {},
   "outputs": [
    {
     "data": {
      "text/plain": [
       "19416.42372881356"
      ]
     },
     "execution_count": 26,
     "metadata": {},
     "output_type": "execute_result"
    }
   ],
   "source": [
    "skalds['Word Count'].mean()"
   ]
  },
  {
   "cell_type": "code",
   "execution_count": 27,
   "metadata": {},
   "outputs": [
    {
     "data": {
      "text/html": [
       "<div>\n",
       "<table border=\"1\" class=\"dataframe\">\n",
       "  <thead>\n",
       "    <tr style=\"text-align: right;\">\n",
       "      <th></th>\n",
       "      <th>Title</th>\n",
       "      <th>Author</th>\n",
       "      <th>Text</th>\n",
       "      <th>Skald</th>\n",
       "      <th>Unique Words</th>\n",
       "      <th>Word Count</th>\n",
       "      <th>Lexical Den</th>\n",
       "    </tr>\n",
       "  </thead>\n",
       "  <tbody>\n",
       "    <tr>\n",
       "      <th>32</th>\n",
       "      <td>The Story of Burnt Njal\\n</td>\n",
       "      <td>unknown</td>\n",
       "      <td>['Mörður hét maður er kallaður var gígja Hann ...</td>\n",
       "      <td>0</td>\n",
       "      <td>11004</td>\n",
       "      <td>99812</td>\n",
       "      <td>0.110247</td>\n",
       "    </tr>\n",
       "  </tbody>\n",
       "</table>\n",
       "</div>"
      ],
      "text/plain": [
       "                        Title   Author  \\\n",
       "32  The Story of Burnt Njal\\n  unknown   \n",
       "\n",
       "                                                 Text  Skald  Unique Words  \\\n",
       "32  ['Mörður hét maður er kallaður var gígja Hann ...      0         11004   \n",
       "\n",
       "    Word Count  Lexical Den  \n",
       "32       99812     0.110247  "
      ]
     },
     "execution_count": 27,
     "metadata": {},
     "output_type": "execute_result"
    }
   ],
   "source": [
    "longest = skalds[skalds['Word Count'] == skalds['Word Count'].max()]\n",
    "longest"
   ]
  },
  {
   "cell_type": "code",
   "execution_count": 28,
   "metadata": {},
   "outputs": [
    {
     "data": {
      "text/html": [
       "<div>\n",
       "<table border=\"1\" class=\"dataframe\">\n",
       "  <thead>\n",
       "    <tr style=\"text-align: right;\">\n",
       "      <th></th>\n",
       "      <th>Title</th>\n",
       "      <th>Author</th>\n",
       "      <th>Text</th>\n",
       "      <th>Skald</th>\n",
       "      <th>Unique Words</th>\n",
       "      <th>Word Count</th>\n",
       "      <th>Lexical Den</th>\n",
       "    </tr>\n",
       "  </thead>\n",
       "  <tbody>\n",
       "    <tr>\n",
       "      <th>54</th>\n",
       "      <td>Ólafs saga kyrra</td>\n",
       "      <td>snorri</td>\n",
       "      <td>['1 Saga Ólafs konungs kyrra', 'Ólafur var ein...</td>\n",
       "      <td>0</td>\n",
       "      <td>613</td>\n",
       "      <td>1045</td>\n",
       "      <td>0.586603</td>\n",
       "    </tr>\n",
       "  </tbody>\n",
       "</table>\n",
       "</div>"
      ],
      "text/plain": [
       "               Title  Author  \\\n",
       "54  Ólafs saga kyrra  snorri   \n",
       "\n",
       "                                                 Text  Skald  Unique Words  \\\n",
       "54  ['1 Saga Ólafs konungs kyrra', 'Ólafur var ein...      0           613   \n",
       "\n",
       "    Word Count  Lexical Den  \n",
       "54        1045     0.586603  "
      ]
     },
     "execution_count": 28,
     "metadata": {},
     "output_type": "execute_result"
    }
   ],
   "source": [
    "shortest = skalds[skalds['Word Count'] == skalds['Word Count'].min()]\n",
    "shortest"
   ]
  },
  {
   "cell_type": "code",
   "execution_count": 29,
   "metadata": {},
   "outputs": [
    {
     "data": {
      "text/html": [
       "<div>\n",
       "<table border=\"1\" class=\"dataframe\">\n",
       "  <thead>\n",
       "    <tr style=\"text-align: right;\">\n",
       "      <th></th>\n",
       "      <th>Title</th>\n",
       "      <th>Author</th>\n",
       "      <th>Text</th>\n",
       "      <th>Skald</th>\n",
       "      <th>Unique Words</th>\n",
       "      <th>Word Count</th>\n",
       "      <th>Lexical Den</th>\n",
       "    </tr>\n",
       "  </thead>\n",
       "  <tbody>\n",
       "    <tr>\n",
       "      <th>54</th>\n",
       "      <td>Ólafs saga kyrra</td>\n",
       "      <td>snorri</td>\n",
       "      <td>['1 Saga Ólafs konungs kyrra', 'Ólafur var ein...</td>\n",
       "      <td>0</td>\n",
       "      <td>613</td>\n",
       "      <td>1045</td>\n",
       "      <td>0.586603</td>\n",
       "    </tr>\n",
       "  </tbody>\n",
       "</table>\n",
       "</div>"
      ],
      "text/plain": [
       "               Title  Author  \\\n",
       "54  Ólafs saga kyrra  snorri   \n",
       "\n",
       "                                                 Text  Skald  Unique Words  \\\n",
       "54  ['1 Saga Ólafs konungs kyrra', 'Ólafur var ein...      0           613   \n",
       "\n",
       "    Word Count  Lexical Den  \n",
       "54        1045     0.586603  "
      ]
     },
     "execution_count": 29,
     "metadata": {},
     "output_type": "execute_result"
    }
   ],
   "source": [
    "lex_complex = skalds[skalds['Lexical Den'] == skalds['Lexical Den'].max()]\n",
    "lex_complex"
   ]
  },
  {
   "cell_type": "code",
   "execution_count": 30,
   "metadata": {},
   "outputs": [
    {
     "data": {
      "text/html": [
       "<div>\n",
       "<table border=\"1\" class=\"dataframe\">\n",
       "  <thead>\n",
       "    <tr style=\"text-align: right;\">\n",
       "      <th></th>\n",
       "      <th>Title</th>\n",
       "      <th>Author</th>\n",
       "      <th>Text</th>\n",
       "      <th>Skald</th>\n",
       "      <th>Unique Words</th>\n",
       "      <th>Word Count</th>\n",
       "      <th>Lexical Den</th>\n",
       "    </tr>\n",
       "  </thead>\n",
       "  <tbody>\n",
       "    <tr>\n",
       "      <th>32</th>\n",
       "      <td>The Story of Burnt Njal\\n</td>\n",
       "      <td>unknown</td>\n",
       "      <td>['Mörður hét maður er kallaður var gígja Hann ...</td>\n",
       "      <td>0</td>\n",
       "      <td>11004</td>\n",
       "      <td>99812</td>\n",
       "      <td>0.110247</td>\n",
       "    </tr>\n",
       "  </tbody>\n",
       "</table>\n",
       "</div>"
      ],
      "text/plain": [
       "                        Title   Author  \\\n",
       "32  The Story of Burnt Njal\\n  unknown   \n",
       "\n",
       "                                                 Text  Skald  Unique Words  \\\n",
       "32  ['Mörður hét maður er kallaður var gígja Hann ...      0         11004   \n",
       "\n",
       "    Word Count  Lexical Den  \n",
       "32       99812     0.110247  "
      ]
     },
     "execution_count": 30,
     "metadata": {},
     "output_type": "execute_result"
    }
   ],
   "source": [
    "lex_simple = skalds[skalds['Lexical Den'] == skalds['Lexical Den'].min()]\n",
    "lex_simple"
   ]
  },
  {
   "cell_type": "code",
   "execution_count": 31,
   "metadata": {},
   "outputs": [
    {
     "data": {
      "text/html": [
       "<div>\n",
       "<table border=\"1\" class=\"dataframe\">\n",
       "  <thead>\n",
       "    <tr style=\"text-align: right;\">\n",
       "      <th></th>\n",
       "      <th>Title</th>\n",
       "      <th>Author</th>\n",
       "      <th>Text</th>\n",
       "      <th>Skald</th>\n",
       "      <th>Unique Words</th>\n",
       "      <th>Word Count</th>\n",
       "      <th>Lexical Den</th>\n",
       "    </tr>\n",
       "  </thead>\n",
       "  <tbody>\n",
       "    <tr>\n",
       "      <th>55</th>\n",
       "      <td>Ólafs saga helga</td>\n",
       "      <td>snorri</td>\n",
       "      <td>['1 Upphaf sögu hins helga Ólafs konungs', 'Ól...</td>\n",
       "      <td>0</td>\n",
       "      <td>15801</td>\n",
       "      <td>99168</td>\n",
       "      <td>0.159336</td>\n",
       "    </tr>\n",
       "  </tbody>\n",
       "</table>\n",
       "</div>"
      ],
      "text/plain": [
       "               Title  Author  \\\n",
       "55  Ólafs saga helga  snorri   \n",
       "\n",
       "                                                 Text  Skald  Unique Words  \\\n",
       "55  ['1 Upphaf sögu hins helga Ólafs konungs', 'Ól...      0         15801   \n",
       "\n",
       "    Word Count  Lexical Den  \n",
       "55       99168     0.159336  "
      ]
     },
     "execution_count": 31,
     "metadata": {},
     "output_type": "execute_result"
    }
   ],
   "source": [
    "verbage_max = skalds[skalds['Unique Words'] == skalds['Unique Words'].max()]\n",
    "verbage_max"
   ]
  },
  {
   "cell_type": "code",
   "execution_count": 32,
   "metadata": {},
   "outputs": [
    {
     "data": {
      "text/html": [
       "<div>\n",
       "<table border=\"1\" class=\"dataframe\">\n",
       "  <thead>\n",
       "    <tr style=\"text-align: right;\">\n",
       "      <th></th>\n",
       "      <th>Title</th>\n",
       "      <th>Author</th>\n",
       "      <th>Text</th>\n",
       "      <th>Skald</th>\n",
       "      <th>Unique Words</th>\n",
       "      <th>Word Count</th>\n",
       "      <th>Lexical Den</th>\n",
       "    </tr>\n",
       "  </thead>\n",
       "  <tbody>\n",
       "    <tr>\n",
       "      <th>57</th>\n",
       "      <td>Prologus Heimskringlu</td>\n",
       "      <td>snorri</td>\n",
       "      <td>['(Hér á eftir fer Prologus Heimskringlu eins ...</td>\n",
       "      <td>0</td>\n",
       "      <td>612</td>\n",
       "      <td>1708</td>\n",
       "      <td>0.358314</td>\n",
       "    </tr>\n",
       "  </tbody>\n",
       "</table>\n",
       "</div>"
      ],
      "text/plain": [
       "                    Title  Author  \\\n",
       "57  Prologus Heimskringlu  snorri   \n",
       "\n",
       "                                                 Text  Skald  Unique Words  \\\n",
       "57  ['(Hér á eftir fer Prologus Heimskringlu eins ...      0           612   \n",
       "\n",
       "    Word Count  Lexical Den  \n",
       "57        1708     0.358314  "
      ]
     },
     "execution_count": 32,
     "metadata": {},
     "output_type": "execute_result"
    }
   ],
   "source": [
    "verbage_min = skalds[skalds['Unique Words'] == skalds['Unique Words'].min()]\n",
    "verbage_min"
   ]
  },
  {
   "cell_type": "code",
   "execution_count": 33,
   "metadata": {},
   "outputs": [
    {
     "data": {
      "text/html": [
       "<div>\n",
       "<table border=\"1\" class=\"dataframe\">\n",
       "  <thead>\n",
       "    <tr style=\"text-align: right;\">\n",
       "      <th></th>\n",
       "      <th>Skald</th>\n",
       "      <th>Unique Words</th>\n",
       "      <th>Word Count</th>\n",
       "      <th>Lexical Den</th>\n",
       "    </tr>\n",
       "  </thead>\n",
       "  <tbody>\n",
       "    <tr>\n",
       "      <th>0</th>\n",
       "      <td>0</td>\n",
       "      <td>3946.631579</td>\n",
       "      <td>19505.122807</td>\n",
       "      <td>0.265189</td>\n",
       "    </tr>\n",
       "    <tr>\n",
       "      <th>1</th>\n",
       "      <td>1</td>\n",
       "      <td>3494.000000</td>\n",
       "      <td>13302.000000</td>\n",
       "      <td>0.262667</td>\n",
       "    </tr>\n",
       "    <tr>\n",
       "      <th>2</th>\n",
       "      <td>2</td>\n",
       "      <td>4312.000000</td>\n",
       "      <td>20475.000000</td>\n",
       "      <td>0.210598</td>\n",
       "    </tr>\n",
       "  </tbody>\n",
       "</table>\n",
       "</div>"
      ],
      "text/plain": [
       "   Skald  Unique Words    Word Count  Lexical Den\n",
       "0      0   3946.631579  19505.122807     0.265189\n",
       "1      1   3494.000000  13302.000000     0.262667\n",
       "2      2   4312.000000  20475.000000     0.210598"
      ]
     },
     "execution_count": 33,
     "metadata": {},
     "output_type": "execute_result"
    }
   ],
   "source": [
    "comp_skalds = skalds.groupby('Skald').mean()\n",
    "comp_skalds.reset_index(inplace = True)\n",
    "comp_skalds.head()"
   ]
  },
  {
   "cell_type": "code",
   "execution_count": 34,
   "metadata": {},
   "outputs": [],
   "source": [
    "snorri = skalds[skalds['Author'] == 'snorri']"
   ]
  },
  {
   "cell_type": "code",
   "execution_count": 35,
   "metadata": {},
   "outputs": [
    {
     "data": {
      "text/html": [
       "<div>\n",
       "<table border=\"1\" class=\"dataframe\">\n",
       "  <thead>\n",
       "    <tr style=\"text-align: right;\">\n",
       "      <th></th>\n",
       "      <th>Title</th>\n",
       "      <th>Author</th>\n",
       "      <th>Text</th>\n",
       "      <th>Skald</th>\n",
       "      <th>Unique Words</th>\n",
       "      <th>Word Count</th>\n",
       "      <th>Lexical Den</th>\n",
       "    </tr>\n",
       "  </thead>\n",
       "  <tbody>\n",
       "    <tr>\n",
       "      <th>42</th>\n",
       "      <td>Haralds saga gráfeldar</td>\n",
       "      <td>snorri</td>\n",
       "      <td>['1 Upphaf Eiríkssona', 'Eiríkssynir tóku þá k...</td>\n",
       "      <td>0</td>\n",
       "      <td>1798</td>\n",
       "      <td>4261</td>\n",
       "      <td>0.421967</td>\n",
       "    </tr>\n",
       "    <tr>\n",
       "      <th>43</th>\n",
       "      <td>Hákonar saga Aðalsteinsfóstra</td>\n",
       "      <td>snorri</td>\n",
       "      <td>['1 Hákon til konungs tekinn', 'Hákon Aðalstei...</td>\n",
       "      <td>0</td>\n",
       "      <td>2968</td>\n",
       "      <td>8348</td>\n",
       "      <td>0.355534</td>\n",
       "    </tr>\n",
       "    <tr>\n",
       "      <th>44</th>\n",
       "      <td>Hálfdanar saga svarta</td>\n",
       "      <td>snorri</td>\n",
       "      <td>['1 kafli', 'Hálfdan var þá veturgamall er fað...</td>\n",
       "      <td>0</td>\n",
       "      <td>918</td>\n",
       "      <td>2069</td>\n",
       "      <td>0.443693</td>\n",
       "    </tr>\n",
       "    <tr>\n",
       "      <th>45</th>\n",
       "      <td>Haraldar saga hárfagra</td>\n",
       "      <td>snorri</td>\n",
       "      <td>['1 Hér hefur upp sögu Haralds konungs hárfagr...</td>\n",
       "      <td>0</td>\n",
       "      <td>3545</td>\n",
       "      <td>10575</td>\n",
       "      <td>0.335225</td>\n",
       "    </tr>\n",
       "    <tr>\n",
       "      <th>46</th>\n",
       "      <td>Haralds saga Sigurðarsonar</td>\n",
       "      <td>snorri</td>\n",
       "      <td>['1 Upphaf Haralds konungs harðráða', 'Haraldu...</td>\n",
       "      <td>0</td>\n",
       "      <td>6908</td>\n",
       "      <td>25629</td>\n",
       "      <td>0.269538</td>\n",
       "    </tr>\n",
       "  </tbody>\n",
       "</table>\n",
       "</div>"
      ],
      "text/plain": [
       "                            Title  Author  \\\n",
       "42         Haralds saga gráfeldar  snorri   \n",
       "43  Hákonar saga Aðalsteinsfóstra  snorri   \n",
       "44          Hálfdanar saga svarta  snorri   \n",
       "45         Haraldar saga hárfagra  snorri   \n",
       "46     Haralds saga Sigurðarsonar  snorri   \n",
       "\n",
       "                                                 Text  Skald  Unique Words  \\\n",
       "42  ['1 Upphaf Eiríkssona', 'Eiríkssynir tóku þá k...      0          1798   \n",
       "43  ['1 Hákon til konungs tekinn', 'Hákon Aðalstei...      0          2968   \n",
       "44  ['1 kafli', 'Hálfdan var þá veturgamall er fað...      0           918   \n",
       "45  ['1 Hér hefur upp sögu Haralds konungs hárfagr...      0          3545   \n",
       "46  ['1 Upphaf Haralds konungs harðráða', 'Haraldu...      0          6908   \n",
       "\n",
       "    Word Count  Lexical Den  \n",
       "42        4261     0.421967  \n",
       "43        8348     0.355534  \n",
       "44        2069     0.443693  \n",
       "45       10575     0.335225  \n",
       "46       25629     0.269538  "
      ]
     },
     "execution_count": 35,
     "metadata": {},
     "output_type": "execute_result"
    }
   ],
   "source": [
    "snorri.head()"
   ]
  },
  {
   "cell_type": "code",
   "execution_count": 37,
   "metadata": {},
   "outputs": [
    {
     "data": {
      "text/html": [
       "<div>\n",
       "<table border=\"1\" class=\"dataframe\">\n",
       "  <thead>\n",
       "    <tr style=\"text-align: right;\">\n",
       "      <th></th>\n",
       "      <th>Author</th>\n",
       "      <th>Unique Words</th>\n",
       "      <th>Word Count</th>\n",
       "      <th>Lexical Den</th>\n",
       "    </tr>\n",
       "  </thead>\n",
       "  <tbody>\n",
       "    <tr>\n",
       "      <th>0</th>\n",
       "      <td>snorri</td>\n",
       "      <td>3786.176471</td>\n",
       "      <td>14837.529412</td>\n",
       "      <td>0.352239</td>\n",
       "    </tr>\n",
       "  </tbody>\n",
       "</table>\n",
       "</div>"
      ],
      "text/plain": [
       "   Author  Unique Words    Word Count  Lexical Den\n",
       "0  snorri   3786.176471  14837.529412     0.352239"
      ]
     },
     "execution_count": 37,
     "metadata": {},
     "output_type": "execute_result"
    }
   ],
   "source": [
    "snorri_stat = snorri.groupby('Author').mean()\n",
    "snorri_stat.reset_index(inplace =True)\n",
    "snorri_stat.drop(['Skald'], axis = 1, inplace = 1)\n",
    "snorri_stat"
   ]
  },
  {
   "cell_type": "code",
   "execution_count": 48,
   "metadata": {},
   "outputs": [],
   "source": [
    "zero = (skalds['Author'] == 'unknown') & (skalds['Skald'] == 0)"
   ]
  },
  {
   "cell_type": "code",
   "execution_count": 50,
   "metadata": {},
   "outputs": [
    {
     "data": {
      "text/html": [
       "<div>\n",
       "<table border=\"1\" class=\"dataframe\">\n",
       "  <thead>\n",
       "    <tr style=\"text-align: right;\">\n",
       "      <th></th>\n",
       "      <th>Title</th>\n",
       "      <th>Author</th>\n",
       "      <th>Text</th>\n",
       "      <th>Skald</th>\n",
       "      <th>Unique Words</th>\n",
       "      <th>Word Count</th>\n",
       "      <th>Lexical Den</th>\n",
       "    </tr>\n",
       "  </thead>\n",
       "  <tbody>\n",
       "    <tr>\n",
       "      <th>2</th>\n",
       "      <td>Droplaugarsona saga</td>\n",
       "      <td>unknown</td>\n",
       "      <td>['Ketill hét maður er kallaður var þrymur Hann...</td>\n",
       "      <td>0</td>\n",
       "      <td>2420</td>\n",
       "      <td>9601</td>\n",
       "      <td>0.252057</td>\n",
       "    </tr>\n",
       "    <tr>\n",
       "      <th>3</th>\n",
       "      <td>Egil's Saga\\n</td>\n",
       "      <td>unknown</td>\n",
       "      <td>['Úlfur hét maður sonur Bjálfa og Hallberu dót...</td>\n",
       "      <td>0</td>\n",
       "      <td>9540</td>\n",
       "      <td>65204</td>\n",
       "      <td>0.146310</td>\n",
       "    </tr>\n",
       "    <tr>\n",
       "      <th>4</th>\n",
       "      <td>Finnboga saga ramma</td>\n",
       "      <td>unknown</td>\n",
       "      <td>['Ásbjörn hét maður Hann var kallaður dettiás ...</td>\n",
       "      <td>0</td>\n",
       "      <td>4062</td>\n",
       "      <td>23702</td>\n",
       "      <td>0.171378</td>\n",
       "    </tr>\n",
       "    <tr>\n",
       "      <th>5</th>\n",
       "      <td>Fljótsdæla saga</td>\n",
       "      <td>unknown</td>\n",
       "      <td>['Þorgerður hét kona Hún bjó í Fljótsdal austu...</td>\n",
       "      <td>0</td>\n",
       "      <td>4784</td>\n",
       "      <td>27272</td>\n",
       "      <td>0.175418</td>\n",
       "    </tr>\n",
       "    <tr>\n",
       "      <th>6</th>\n",
       "      <td>Flóamanna saga</td>\n",
       "      <td>unknown</td>\n",
       "      <td>['Haraldur konungur gullskeggur réð fyrir Sogn...</td>\n",
       "      <td>0</td>\n",
       "      <td>3936</td>\n",
       "      <td>17773</td>\n",
       "      <td>0.221460</td>\n",
       "    </tr>\n",
       "  </tbody>\n",
       "</table>\n",
       "</div>"
      ],
      "text/plain": [
       "                 Title   Author  \\\n",
       "2  Droplaugarsona saga  unknown   \n",
       "3        Egil's Saga\\n  unknown   \n",
       "4  Finnboga saga ramma  unknown   \n",
       "5      Fljótsdæla saga  unknown   \n",
       "6       Flóamanna saga  unknown   \n",
       "\n",
       "                                                Text  Skald  Unique Words  \\\n",
       "2  ['Ketill hét maður er kallaður var þrymur Hann...      0          2420   \n",
       "3  ['Úlfur hét maður sonur Bjálfa og Hallberu dót...      0          9540   \n",
       "4  ['Ásbjörn hét maður Hann var kallaður dettiás ...      0          4062   \n",
       "5  ['Þorgerður hét kona Hún bjó í Fljótsdal austu...      0          4784   \n",
       "6  ['Haraldur konungur gullskeggur réð fyrir Sogn...      0          3936   \n",
       "\n",
       "   Word Count  Lexical Den  \n",
       "2        9601     0.252057  \n",
       "3       65204     0.146310  \n",
       "4       23702     0.171378  \n",
       "5       27272     0.175418  \n",
       "6       17773     0.221460  "
      ]
     },
     "execution_count": 50,
     "metadata": {},
     "output_type": "execute_result"
    }
   ],
   "source": [
    "skald_zero = skalds[zero]\n",
    "skald_zero.head()"
   ]
  },
  {
   "cell_type": "code",
   "execution_count": 52,
   "metadata": {},
   "outputs": [
    {
     "data": {
      "text/html": [
       "<div>\n",
       "<table border=\"1\" class=\"dataframe\">\n",
       "  <thead>\n",
       "    <tr style=\"text-align: right;\">\n",
       "      <th></th>\n",
       "      <th>Author</th>\n",
       "      <th>Unique Words</th>\n",
       "      <th>Word Count</th>\n",
       "      <th>Lexical Den</th>\n",
       "    </tr>\n",
       "  </thead>\n",
       "  <tbody>\n",
       "    <tr>\n",
       "      <th>0</th>\n",
       "      <td>Skald 0</td>\n",
       "      <td>4014.825</td>\n",
       "      <td>21488.85</td>\n",
       "      <td>0.228193</td>\n",
       "    </tr>\n",
       "  </tbody>\n",
       "</table>\n",
       "</div>"
      ],
      "text/plain": [
       "    Author  Unique Words  Word Count  Lexical Den\n",
       "0  Skald 0      4014.825    21488.85     0.228193"
      ]
     },
     "execution_count": 52,
     "metadata": {},
     "output_type": "execute_result"
    }
   ],
   "source": [
    "skald_zero_stat = skald_zero.groupby('Author').mean()\n",
    "skald_zero_stat.reset_index(inplace =True)\n",
    "skald_zero_stat.drop(['Skald'], axis = 1, inplace = 1)\n",
    "skald_zero_stat['Author'] = 'Skald 0'\n",
    "skald_zero_stat"
   ]
  },
  {
   "cell_type": "code",
   "execution_count": 89,
   "metadata": {},
   "outputs": [],
   "source": [
    "skald_zero_stat = pd.DataFrame(skald_zero_stat)\n",
    "snorri_stat = pd.DataFrame(snorri_stat)"
   ]
  },
  {
   "cell_type": "code",
   "execution_count": 92,
   "metadata": {},
   "outputs": [
    {
     "data": {
      "text/html": [
       "<div>\n",
       "<table border=\"1\" class=\"dataframe\">\n",
       "  <thead>\n",
       "    <tr style=\"text-align: right;\">\n",
       "      <th></th>\n",
       "      <th>Title</th>\n",
       "      <th>Author</th>\n",
       "      <th>Text</th>\n",
       "      <th>Skald</th>\n",
       "      <th>Unique Words</th>\n",
       "      <th>Word Count</th>\n",
       "      <th>Lexical Den</th>\n",
       "    </tr>\n",
       "  </thead>\n",
       "  <tbody>\n",
       "    <tr>\n",
       "      <th>0</th>\n",
       "      <td>Bárðar saga snæfellsáss</td>\n",
       "      <td>unknown</td>\n",
       "      <td>['Dumbur hefir konungur heitið Hann réð fyrir ...</td>\n",
       "      <td>1</td>\n",
       "      <td>3494</td>\n",
       "      <td>13302</td>\n",
       "      <td>0.262667</td>\n",
       "    </tr>\n",
       "    <tr>\n",
       "      <th>1</th>\n",
       "      <td>Bjarnar saga hítdælakappa</td>\n",
       "      <td>unknown</td>\n",
       "      <td>['Nú skal segja nokkuð af þeim íslensku mönnum...</td>\n",
       "      <td>2</td>\n",
       "      <td>4312</td>\n",
       "      <td>20475</td>\n",
       "      <td>0.210598</td>\n",
       "    </tr>\n",
       "  </tbody>\n",
       "</table>\n",
       "</div>"
      ],
      "text/plain": [
       "                       Title   Author  \\\n",
       "0    Bárðar saga snæfellsáss  unknown   \n",
       "1  Bjarnar saga hítdælakappa  unknown   \n",
       "\n",
       "                                                Text  Skald  Unique Words  \\\n",
       "0  ['Dumbur hefir konungur heitið Hann réð fyrir ...      1          3494   \n",
       "1  ['Nú skal segja nokkuð af þeim íslensku mönnum...      2          4312   \n",
       "\n",
       "   Word Count  Lexical Den  \n",
       "0       13302     0.262667  \n",
       "1       20475     0.210598  "
      ]
     },
     "execution_count": 92,
     "metadata": {},
     "output_type": "execute_result"
    }
   ],
   "source": [
    "others = skalds[skalds['Skald'] != 0]\n",
    "others"
   ]
  },
  {
   "cell_type": "code",
   "execution_count": null,
   "metadata": {},
   "outputs": [],
   "source": []
  },
  {
   "cell_type": "code",
   "execution_count": null,
   "metadata": {
    "scrolled": false
   },
   "outputs": [],
   "source": []
  },
  {
   "cell_type": "code",
   "execution_count": null,
   "metadata": {
    "collapsed": true
   },
   "outputs": [],
   "source": []
  }
 ],
 "metadata": {
  "kernelspec": {
   "display_name": "Python 3",
   "language": "python",
   "name": "python3"
  },
  "language_info": {
   "codemirror_mode": {
    "name": "ipython",
    "version": 3
   },
   "file_extension": ".py",
   "mimetype": "text/x-python",
   "name": "python",
   "nbconvert_exporter": "python",
   "pygments_lexer": "ipython3",
   "version": "3.6.1"
  }
 },
 "nbformat": 4,
 "nbformat_minor": 2
}
